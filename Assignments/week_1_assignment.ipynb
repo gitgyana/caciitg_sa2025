{
 "cells": [
  {
   "cell_type": "markdown",
   "id": "ff4f57db-f04b-4a0a-94db-e96851f5d132",
   "metadata": {},
   "source": [
    "# Name: Gyana Priyadarshi (gyana.career@gmail.com)\n",
    "## Assignment 1"
   ]
  },
  {
   "cell_type": "markdown",
   "id": "1d5d395b-f295-473c-af4b-0656a6dec766",
   "metadata": {},
   "source": [
    "##### Importing all important libraries"
   ]
  },
  {
   "cell_type": "code",
   "execution_count": 1,
   "id": "aeb26f03-ad73-4fd6-9214-510aa66fe4e4",
   "metadata": {},
   "outputs": [],
   "source": [
    "import matplotlib.pyplot as plt\n",
    "import numpy as np\n",
    "import pandas as pd"
   ]
  },
  {
   "cell_type": "markdown",
   "id": "6d9fa383-0e2a-4c91-99d2-95653c8f974b",
   "metadata": {},
   "source": [
    "##### Read the csv file and assign it to a variable "
   ]
  },
  {
   "cell_type": "code",
   "execution_count": 2,
   "id": "a8309230-1227-4e5e-a04e-4f3048788e66",
   "metadata": {},
   "outputs": [],
   "source": [
    "cars = pd.read_csv('Cars.csv')"
   ]
  },
  {
   "cell_type": "markdown",
   "id": "3222333a-75c7-4b3e-9c07-fe925a9059e3",
   "metadata": {},
   "source": [
    "##### Display shape of dataframe"
   ]
  },
  {
   "cell_type": "code",
   "execution_count": 3,
   "id": "72081122-94fc-4cad-828b-4d24708930f8",
   "metadata": {},
   "outputs": [
    {
     "name": "stdout",
     "output_type": "stream",
     "text": [
      "(398, 9)\n"
     ]
    }
   ],
   "source": [
    "print(cars.shape)"
   ]
  },
  {
   "cell_type": "markdown",
   "id": "94f936a6-6686-4822-8ee6-c4158003b749",
   "metadata": {},
   "source": [
    "##### Print all columns of dataframe"
   ]
  },
  {
   "cell_type": "code",
   "execution_count": 4,
   "id": "4216e706-ff2d-4d89-966f-6ae42c777e60",
   "metadata": {},
   "outputs": [
    {
     "name": "stdout",
     "output_type": "stream",
     "text": [
      "Index(['mpg', 'cylinders', 'displacement', 'horsepower', 'weight',\n",
      "       'acceleration', 'model_year', 'origin', 'name'],\n",
      "      dtype='object')\n"
     ]
    }
   ],
   "source": [
    "print(cars.columns)"
   ]
  },
  {
   "cell_type": "markdown",
   "id": "709220f1-e665-45c3-8cc6-7f396b746126",
   "metadata": {},
   "source": [
    "##### Set the 'name' column as the index of dataframe"
   ]
  },
  {
   "cell_type": "code",
   "execution_count": 5,
   "id": "d531b7e4-1377-422b-b5d8-696431e5c566",
   "metadata": {},
   "outputs": [],
   "source": [
    "cars.set_index('name', inplace=True)"
   ]
  },
  {
   "cell_type": "markdown",
   "id": "49da174c-7b96-4a92-b12c-77cf26c141d6",
   "metadata": {},
   "source": [
    "#####  Print a list of all the unique mpg values"
   ]
  },
  {
   "cell_type": "code",
   "execution_count": 6,
   "id": "5fbdaaa7-e3f7-400e-9934-b7c91568511f",
   "metadata": {},
   "outputs": [
    {
     "name": "stdout",
     "output_type": "stream",
     "text": [
      "[18.  15.  16.  17.  14.  24.  22.  21.  27.  26.  25.  10.  11.   9.\n",
      " 28.  19.  12.  13.  23.  30.  31.  35.  20.  29.  32.  33.  17.5 15.5\n",
      " 14.5 22.5 24.5 18.5 29.5 26.5 16.5 31.5 36.  25.5 33.5 20.5 30.5 21.5\n",
      " 43.1 36.1 32.8 39.4 19.9 19.4 20.2 19.2 25.1 20.6 20.8 18.6 18.1 17.7\n",
      " 27.5 27.2 30.9 21.1 23.2 23.8 23.9 20.3 21.6 16.2 19.8 22.3 17.6 18.2\n",
      " 16.9 31.9 34.1 35.7 27.4 25.4 34.2 34.5 31.8 37.3 28.4 28.8 26.8 41.5\n",
      " 38.1 32.1 37.2 26.4 24.3 19.1 34.3 29.8 31.3 37.  32.2 46.6 27.9 40.8\n",
      " 44.3 43.4 36.4 44.6 40.9 33.8 32.7 23.7 23.6 32.4 26.6 25.8 23.5 39.1\n",
      " 39.  35.1 32.3 37.7 34.7 34.4 29.9 33.7 32.9 31.6 28.1 30.7 24.2 22.4\n",
      " 34.  38.  44. ]\n"
     ]
    }
   ],
   "source": [
    "unique_mpg_values = cars['mpg'].unique()\n",
    "print(unique_mpg_values)"
   ]
  },
  {
   "cell_type": "markdown",
   "id": "3ef9fa28-4a22-41c1-b557-bd86fe2eafc9",
   "metadata": {},
   "source": [
    "##### Create a column which contains the horsepower divided by weightas its metric and make this new column the index"
   ]
  },
  {
   "cell_type": "code",
   "execution_count": 7,
   "id": "b77a0ac0-9d91-4154-96cb-3354aad2686f",
   "metadata": {},
   "outputs": [
    {
     "data": {
      "text/html": [
       "<div>\n",
       "<style scoped>\n",
       "    .dataframe tbody tr th:only-of-type {\n",
       "        vertical-align: middle;\n",
       "    }\n",
       "\n",
       "    .dataframe tbody tr th {\n",
       "        vertical-align: top;\n",
       "    }\n",
       "\n",
       "    .dataframe thead th {\n",
       "        text-align: right;\n",
       "    }\n",
       "</style>\n",
       "<table border=\"1\" class=\"dataframe\">\n",
       "  <thead>\n",
       "    <tr style=\"text-align: right;\">\n",
       "      <th></th>\n",
       "      <th>name</th>\n",
       "      <th>mpg</th>\n",
       "      <th>cylinders</th>\n",
       "      <th>displacement</th>\n",
       "      <th>horsepower</th>\n",
       "      <th>weight</th>\n",
       "      <th>acceleration</th>\n",
       "      <th>model_year</th>\n",
       "      <th>origin</th>\n",
       "    </tr>\n",
       "    <tr>\n",
       "      <th>hp_per_weight</th>\n",
       "      <th></th>\n",
       "      <th></th>\n",
       "      <th></th>\n",
       "      <th></th>\n",
       "      <th></th>\n",
       "      <th></th>\n",
       "      <th></th>\n",
       "      <th></th>\n",
       "      <th></th>\n",
       "    </tr>\n",
       "  </thead>\n",
       "  <tbody>\n",
       "    <tr>\n",
       "      <th>0.037100</th>\n",
       "      <td>chevrolet chevelle malibu</td>\n",
       "      <td>18.0</td>\n",
       "      <td>8</td>\n",
       "      <td>307.0</td>\n",
       "      <td>130.0</td>\n",
       "      <td>3504</td>\n",
       "      <td>12.0</td>\n",
       "      <td>70</td>\n",
       "      <td>usa</td>\n",
       "    </tr>\n",
       "    <tr>\n",
       "      <th>0.044679</th>\n",
       "      <td>buick skylark 320</td>\n",
       "      <td>15.0</td>\n",
       "      <td>8</td>\n",
       "      <td>350.0</td>\n",
       "      <td>165.0</td>\n",
       "      <td>3693</td>\n",
       "      <td>11.5</td>\n",
       "      <td>70</td>\n",
       "      <td>usa</td>\n",
       "    </tr>\n",
       "    <tr>\n",
       "      <th>0.043655</th>\n",
       "      <td>plymouth satellite</td>\n",
       "      <td>18.0</td>\n",
       "      <td>8</td>\n",
       "      <td>318.0</td>\n",
       "      <td>150.0</td>\n",
       "      <td>3436</td>\n",
       "      <td>11.0</td>\n",
       "      <td>70</td>\n",
       "      <td>usa</td>\n",
       "    </tr>\n",
       "    <tr>\n",
       "      <th>0.043694</th>\n",
       "      <td>amc rebel sst</td>\n",
       "      <td>16.0</td>\n",
       "      <td>8</td>\n",
       "      <td>304.0</td>\n",
       "      <td>150.0</td>\n",
       "      <td>3433</td>\n",
       "      <td>12.0</td>\n",
       "      <td>70</td>\n",
       "      <td>usa</td>\n",
       "    </tr>\n",
       "    <tr>\n",
       "      <th>0.040591</th>\n",
       "      <td>ford torino</td>\n",
       "      <td>17.0</td>\n",
       "      <td>8</td>\n",
       "      <td>302.0</td>\n",
       "      <td>140.0</td>\n",
       "      <td>3449</td>\n",
       "      <td>10.5</td>\n",
       "      <td>70</td>\n",
       "      <td>usa</td>\n",
       "    </tr>\n",
       "  </tbody>\n",
       "</table>\n",
       "</div>"
      ],
      "text/plain": [
       "                                    name   mpg  cylinders  displacement  \\\n",
       "hp_per_weight                                                             \n",
       "0.037100       chevrolet chevelle malibu  18.0          8         307.0   \n",
       "0.044679               buick skylark 320  15.0          8         350.0   \n",
       "0.043655              plymouth satellite  18.0          8         318.0   \n",
       "0.043694                   amc rebel sst  16.0          8         304.0   \n",
       "0.040591                     ford torino  17.0          8         302.0   \n",
       "\n",
       "               horsepower  weight  acceleration  model_year origin  \n",
       "hp_per_weight                                                       \n",
       "0.037100            130.0    3504          12.0          70    usa  \n",
       "0.044679            165.0    3693          11.5          70    usa  \n",
       "0.043655            150.0    3436          11.0          70    usa  \n",
       "0.043694            150.0    3433          12.0          70    usa  \n",
       "0.040591            140.0    3449          10.5          70    usa  "
      ]
     },
     "execution_count": 7,
     "metadata": {},
     "output_type": "execute_result"
    }
   ],
   "source": [
    "cars.reset_index(inplace=True)\n",
    "cars['hp_per_weight'] = cars['horsepower'] / cars['weight']\n",
    "cars.set_index('hp_per_weight', inplace=True)\n",
    "cars.head()"
   ]
  },
  {
   "cell_type": "markdown",
   "id": "218e495b-88f8-48c0-b697-39e7fdf908f8",
   "metadata": {},
   "source": [
    "---\n",
    "# GRADED QUESTION'S ANSWERS\n",
    "---"
   ]
  },
  {
   "cell_type": "markdown",
   "id": "cfe424a6-0a98-43f2-b59a-dc34fdec9ef4",
   "metadata": {},
   "source": [
    "### 1. Name of car that has the highest horsepower"
   ]
  },
  {
   "cell_type": "code",
   "execution_count": 8,
   "id": "511960b1-8d18-420b-b11c-17afdc490b0c",
   "metadata": {},
   "outputs": [
    {
     "name": "stdout",
     "output_type": "stream",
     "text": [
      "pontiac grand prix\n"
     ]
    }
   ],
   "source": [
    "max_hp = cars[cars['horsepower'] == cars['horsepower'].max()]\n",
    "car_name = max_hp.index[0] if cars.index.name == 'name' else max_hp['name'].values[0]\n",
    "print(car_name) # pontiac grand prix"
   ]
  },
  {
   "cell_type": "markdown",
   "id": "c63029d1-ddff-46dd-891a-2944181f2620",
   "metadata": {},
   "source": [
    "### 2. Cars have mpg ≥ 35"
   ]
  },
  {
   "cell_type": "code",
   "execution_count": 9,
   "id": "23196a11-f079-4e38-885b-99334c68f02d",
   "metadata": {},
   "outputs": [
    {
     "name": "stdout",
     "output_type": "stream",
     "text": [
      "36\n"
     ]
    }
   ],
   "source": [
    "count = cars[cars['mpg'] >= 35].shape[0]\n",
    "print(count) # 36"
   ]
  },
  {
   "cell_type": "markdown",
   "id": "6c983809-2d05-4519-ab80-6c7ad3625ab5",
   "metadata": {},
   "source": [
    "### 3. Most common origin for cars with horsepower > 100 and weight < 3000"
   ]
  },
  {
   "cell_type": "code",
   "execution_count": 10,
   "id": "94238ed8-446f-4738-838e-aabcc8a2220b",
   "metadata": {},
   "outputs": [
    {
     "name": "stdout",
     "output_type": "stream",
     "text": [
      "usa\n"
     ]
    }
   ],
   "source": [
    "filtered_cars = cars[(cars['horsepower'] > 100) & (cars['weight'] < 3000)]\n",
    "common_origin = filtered_cars['origin'].mode()[0]\n",
    "print(common_origin) # usa"
   ]
  },
  {
   "cell_type": "markdown",
   "id": "2d7f6073-fab8-425a-8d90-04ce291489a1",
   "metadata": {},
   "source": [
    "### 4. Mean acceleration of cars from Japan (rounded to 2 decimals)"
   ]
  },
  {
   "cell_type": "code",
   "execution_count": 11,
   "id": "c3a5c1ee-7cc7-459c-b9cb-9e34e396a6b4",
   "metadata": {},
   "outputs": [
    {
     "name": "stdout",
     "output_type": "stream",
     "text": [
      "16.17\n"
     ]
    }
   ],
   "source": [
    "mean_acc_jp = cars[cars['origin'] == 'japan']['acceleration'].mean()\n",
    "mean_acc_jp_2dp = round(mean_acc_jp, 2)\n",
    "print(mean_acc_jp_2dp) # 16.17"
   ]
  },
  {
   "cell_type": "markdown",
   "id": "85e819f6-5b03-47d4-ab45-e112d7c8f5b0",
   "metadata": {},
   "source": [
    "### 5. Year that had the highest average mpg"
   ]
  },
  {
   "cell_type": "code",
   "execution_count": 12,
   "id": "10ac9ffb-df7a-4807-847b-294e777399cc",
   "metadata": {},
   "outputs": [
    {
     "name": "stdout",
     "output_type": "stream",
     "text": [
      "80\n"
     ]
    }
   ],
   "source": [
    "avg_mpg_per_year = cars.groupby('model_year')['mpg'].mean()\n",
    "year_highest_avg_mpg = avg_mpg_per_year.idxmax()\n",
    "print(year_highest_avg_mpg) # 80"
   ]
  },
  {
   "cell_type": "markdown",
   "id": "79a7d65a-9361-46a6-8ea6-5b537b13cfc4",
   "metadata": {},
   "source": [
    "---\n",
    "# UNGRADED EXTRA QUESTION'S ANSWERS\n",
    "---"
   ]
  },
  {
   "cell_type": "markdown",
   "id": "96784e75-9a2c-4aab-914b-24a2cc1ec79a",
   "metadata": {},
   "source": [
    "### Car with the best ratio of horsepower to weight among all cars that also have above-median mpg."
   ]
  },
  {
   "cell_type": "code",
   "execution_count": 13,
   "id": "65264daa-c2df-407a-962f-594d353523e3",
   "metadata": {
    "scrolled": true
   },
   "outputs": [
    {
     "name": "stdout",
     "output_type": "stream",
     "text": [
      "hp_per_weight\n",
      "0.050582    bmw 2002\n",
      "Name: name, dtype: object\n"
     ]
    }
   ],
   "source": [
    "cars['hp_per_weight'] = cars['horsepower'] / cars['weight']\n",
    "median_mpg = cars['mpg'].median()\n",
    "above_median = cars[cars['mpg'] > median_mpg]\n",
    "max_hp_per_weight = above_median['hp_per_weight'].max()\n",
    "best_cars = above_median[above_median['hp_per_weight'] == max_hp_per_weight]\n",
    "print(best_cars['name'])"
   ]
  },
  {
   "cell_type": "markdown",
   "id": "05f97e1f-b1b3-45ff-b7e2-e2bceb577e86",
   "metadata": {},
   "source": [
    "### A multi-line plot using Matplotlib that shows the evolution of average mpg over the years, separately for each origin"
   ]
  },
  {
   "cell_type": "code",
   "execution_count": 14,
   "id": "bab038f1-1cc6-4119-8231-ad94231b1119",
   "metadata": {},
   "outputs": [
    {
     "data": {
      "image/png": "[encoded data removed]",
      "text/plain": [
       "<Figure size 1000x600 with 1 Axes>"
      ]
     },
     "metadata": {},
     "output_type": "display_data"
    }
   ],
   "source": [
    "avg_mpg = cars.groupby(['model_year', 'origin'])['mpg'].mean().reset_index()\n",
    "plt.figure(figsize=(10,6))\n",
    "\n",
    "for origin in avg_mpg['origin'].unique():\n",
    "    subset = avg_mpg[avg_mpg['origin'] == origin]\n",
    "    plt.plot(subset['model_year'], subset['mpg'], marker='o', label=origin)\n",
    "\n",
    "plt.title('Average MPG Over Years by Origin')\n",
    "plt.xlabel('Year')\n",
    "plt.ylabel('Average MPG')\n",
    "plt.legend(title='Origin')\n",
    "plt.grid(True)\n",
    "plt.show()"
   ]
  },
  {
   "cell_type": "markdown",
   "id": "4f23f822-bc4b-4052-86f1-a2ae02f2611d",
   "metadata": {},
   "source": [
    "### Tasks:\n",
    "- Car names that appear in more than one model_year.\n",
    "- For each such name, compute the standard deviation of mpg across years.\n",
    "- Return the car(s) with the lowest variation in mpg, among those with at least 2 appearances and std(mpg) < 1.0.\n",
    "- Report the model name(s), number of appearances, and the average mpg.\n",
    "- Sort the result by number of appearances (descending), then mpg (descending)."
   ]
  },
  {
   "cell_type": "code",
   "execution_count": 15,
   "id": "084b4adf-f133-4352-86b6-c6c42e7d70c2",
   "metadata": {},
   "outputs": [
    {
     "name": "stdout",
     "output_type": "stream",
     "text": [
      "                          name  count    avg_mpg\n",
      "141           ford galaxie 500      3  14.333333\n",
      "223          plymouth fury iii      3  14.333333\n",
      "267        toyota corolla 1200      2  31.500000\n",
      "175                  mazda 626      2  31.450000\n",
      "287          volkswagen rabbit      2  29.250000\n",
      "95                datsun pl510      2  27.000000\n",
      "260                  saab 99le      2  24.500000\n",
      "276             toyota mark ii      2  19.500000\n",
      "98                 dodge aspen      2  18.850000\n",
      "49   chevrolet chevelle malibu      2  17.500000\n",
      "11            amc matador (sw)      2  14.500000\n",
      "143      ford gran torino (sw)      2  13.500000\n",
      "148                   ford ltd      2  13.500000\n"
     ]
    }
   ],
   "source": [
    "grouped = cars.groupby('name').agg(\n",
    "    model_years=('model_year', lambda x: x.nunique()),\n",
    "    count=('name', 'count'),\n",
    "    std_mpg=('mpg', 'std'),\n",
    "    avg_mpg=('mpg', 'mean')\n",
    ").reset_index()\n",
    "\n",
    "consistent = grouped[\n",
    "    (grouped['model_years'] >= 2) & \n",
    "    (grouped['std_mpg'] < 1.0)\n",
    "]\n",
    "\n",
    "consistent_sorted = consistent.sort_values(\n",
    "    by=['count', 'avg_mpg'], \n",
    "    ascending=[False, False]\n",
    ")\n",
    "result = consistent_sorted[['name', 'count', 'avg_mpg']]\n",
    "print(result)"
   ]
  }
 ],
 "metadata": {
  "kernelspec": {
   "display_name": "Python 3 (ipykernel)",
   "language": "python",
   "name": "python3"
  },
  "language_info": {
   "codemirror_mode": {
    "name": "ipython",
    "version": 3
   },
   "file_extension": ".py",
   "mimetype": "text/x-python",
   "name": "python",
   "nbconvert_exporter": "python",
   "pygments_lexer": "ipython3",
   "version": "3.12.7"
  }
 },
 "nbformat": 4,
 "nbformat_minor": 5
}
